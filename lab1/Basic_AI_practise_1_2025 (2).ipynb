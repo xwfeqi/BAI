{
  "cells": [
    {
      "cell_type": "markdown",
      "metadata": {
        "id": "UfI7FZudfGwv"
      },
      "source": [
        "# I. NumPy."
      ]
    },
    {
      "cell_type": "markdown",
      "metadata": {
        "id": "fQcvdlwdimQb"
      },
      "source": [
        "**Оцінювання даної роботи буде ураховувати якість Вашого коду та текстових відповідей. При наявності ЛИШЕ коду , робота оцінюватися НЕ БУДЕ.**  \n",
        "\n",
        "**Оформлення текстових відповідей повинно проводитися в текстових комірках ноутбука з використанням синтаксису [LaTeX](https://en.wikibooks.org/wiki/LaTeX/Basics) для оформлення тексту та формул.**\n",
        "\n",
        "**Роботи ідентифіковані як ІДЕНТИЧНІ одразу отримують 0 балів.**\n",
        "\n",
        "**При реалізації завдань потрібно використовувати методи з бібліотеки numpy та pandas.**\n",
        "\n",
        "**Рішення з циклами будуть оцінені в 0 балів.**"
      ]
    },
    {
      "cell_type": "markdown",
      "metadata": {
        "id": "XmA3PWg8fJxn"
      },
      "source": [
        "0. Імпортувати numpy загальноприйнятим способом."
      ]
    },
    {
      "cell_type": "code",
      "execution_count": 7,
      "metadata": {
        "id": "JUli5tR8eTXG"
      },
      "outputs": [],
      "source": [
        "import numpy as np"
      ]
    },
    {
      "cell_type": "markdown",
      "metadata": {
        "id": "fppWPwoFjTrl"
      },
      "source": [
        "1. Визначити список з оцінками студента(ки) за семестр. Використовуючи його, створити одновимірний масив numpy."
      ]
    },
    {
      "cell_type": "code",
      "execution_count": 9,
      "metadata": {
        "id": "cuvs9lNAjVoB"
      },
      "outputs": [
        {
          "name": "stdout",
          "output_type": "stream",
          "text": [
            "[56 75 76 64 65 87]\n"
          ]
        }
      ],
      "source": [
        "\n",
        "grades = np.array([56, 75, 76, 64, 65, 87])\n",
        "\n",
        "print(grades)\n"
      ]
    },
    {
      "cell_type": "markdown",
      "metadata": {
        "id": "OGeLtAwcjcMB"
      },
      "source": [
        "2. Визначити список зі списками, де кожен рядок списку формально означає магазин, а кожна колонка - певний продукт (батон, яйця першої категорії, молоко та ковбаса), а елементами на пересічі є ціни на ці продукти відповідно. Використовуючи цей список, створити матрицю (двовимірний масив) numpy."
      ]
    },
    {
      "cell_type": "code",
      "execution_count": 18,
      "metadata": {
        "id": "zJ9kEAv5jcVo"
      },
      "outputs": [
        {
          "name": "stdout",
          "output_type": "stream",
          "text": [
            "[[12 52 56 92]\n",
            " [11 50 57 95]\n",
            " [13 49 55 90]]\n"
          ]
        }
      ],
      "source": [
        "costs_matrix = np.array([\n",
        "    [12, 52, 56, 92],\n",
        "    [11, 50, 57, 95],\n",
        "    [13, 49, 55, 90]\n",
        "])\n",
        "\n",
        "print(costs_matrix)"
      ]
    },
    {
      "cell_type": "markdown",
      "metadata": {
        "id": "wK7wrEw2jcix"
      },
      "source": [
        "3. Отримайте тип даних значень з масивів завдань 2 та 3. Виведіть їх на екран."
      ]
    },
    {
      "cell_type": "code",
      "execution_count": 20,
      "metadata": {
        "id": "uDBL1x6vjcq9"
      },
      "outputs": [
        {
          "name": "stdout",
          "output_type": "stream",
          "text": [
            "int64\n",
            "int64\n"
          ]
        }
      ],
      "source": [
        "typeOfGrades = print(grades.dtype)\n",
        "typeOfCostsMatrix = print(costs_matrix.dtype)"
      ]
    },
    {
      "cell_type": "markdown",
      "metadata": {
        "id": "nNhAgsC3jcyp"
      },
      "source": [
        "4. Отримайте форми (кортеж з кількістю рядків та колонок) масивів завдань 2 та 3. Виведіть їх на екран."
      ]
    },
    {
      "cell_type": "code",
      "execution_count": 21,
      "metadata": {
        "id": "Fi5oXTI8jc4-"
      },
      "outputs": [
        {
          "name": "stdout",
          "output_type": "stream",
          "text": [
            "(6,)\n",
            "(3, 4)\n"
          ]
        }
      ],
      "source": [
        "grades_shape = print(grades.shape)\n",
        "cost_matrix_shape = print(costs_matrix.shape)"
      ]
    },
    {
      "cell_type": "markdown",
      "metadata": {
        "id": "bpY-N8QZjdW-"
      },
      "source": [
        "5. Створіть одновимірний масив за допомогою спеціальної функції numpy, який би відображав динаміку стабільно зростаючого (з рівними проміжками) прибутку з продажів  за тиждень, де у перший день не було продажів, а в останній день тижня вдалося заробити 1000 грн 50 коп."
      ]
    },
    {
      "cell_type": "code",
      "execution_count": 24,
      "metadata": {
        "id": "r3LcjnUKjdeu"
      },
      "outputs": [
        {
          "name": "stdout",
          "output_type": "stream",
          "text": [
            "[   0.    166.75  333.5   500.25  667.    833.75 1000.5 ]\n"
          ]
        }
      ],
      "source": [
        "sales_growth = np.linspace(0, 1000.5, 7)\n",
        "print(sales_growth)"
      ]
    },
    {
      "cell_type": "markdown",
      "metadata": {
        "id": "zQM0SY9jjebO"
      },
      "source": [
        "6. Створіть два масиви. Використовуючи їх, продемонструйте відмінність вертикального та горизонтального обʼєднання масивів."
      ]
    },
    {
      "cell_type": "code",
      "execution_count": 35,
      "metadata": {
        "id": "8uoi0_lxjeh-"
      },
      "outputs": [
        {
          "name": "stdout",
          "output_type": "stream",
          "text": [
            "[1 4 6 8 9] \t [11 14 12 15 16] \n",
            "\n",
            "[[ 1  4  6  8  9]\n",
            " [11 14 12 15 16]] \t [ 1  4  6  8  9 11 14 12 15 16]\n"
          ]
        }
      ],
      "source": [
        "vertical = np.array([1, 4, 6, 8, 9])\n",
        "horizontal = np.array([11, 14, 12, 15, 16])\n",
        "\n",
        "vertical_stack = np.vstack((vertical, horizontal))\n",
        "horizontal_stack = np.hstack((vertical, horizontal))\n",
        "\n",
        "print(vertical,\"\\t\", horizontal, \"\\n\")\n",
        "print(vertical_stack,\"\\t\", horizontal_stack)"
      ]
    },
    {
      "cell_type": "markdown",
      "metadata": {
        "id": "Fwh5D1pDm3t7"
      },
      "source": [
        "7. Визначити функцію, яка приймає на вході масив і транспонує його. Скористайтесь методом reshape. І не забудьте почати з docstrings."
      ]
    },
    {
      "cell_type": "code",
      "execution_count": 14,
      "metadata": {
        "id": "FSWZq0mkm31Z"
      },
      "outputs": [
        {
          "name": "stdout",
          "output_type": "stream",
          "text": [
            "[[1 4]\n",
            " [5 6]]\n",
            "[[1 5]\n",
            " [4 6]]\n"
          ]
        }
      ],
      "source": [
        "array = np.array([[1, 4], [5, 6]])\n",
        "transposed = np.transpose(array)\n",
        "\n",
        "print(array)\n",
        "print(transposed)"
      ]
    },
    {
      "cell_type": "markdown",
      "metadata": {
        "id": "Nnxk8vqYm379"
      },
      "source": [
        "8. Створіть два масиви. Використовучи ці масиви, продемонструйте 1) операцію по-елементного додавання, 2) операцію по-елементного віднімання, 3) множення масиву на число, 4) операцію по-елементного множення, і 5) матричного множення."
      ]
    },
    {
      "cell_type": "code",
      "execution_count": 19,
      "metadata": {
        "id": "qO1rfvmVm4BI"
      },
      "outputs": [
        {
          "name": "stdout",
          "output_type": "stream",
          "text": [
            "[[ 7  6]\n",
            " [14  9]] \n",
            "\n",
            "[[ 1  4]\n",
            " [-2 -5]] \n",
            "\n",
            "[[ 8 10]\n",
            " [12  4]] \n",
            "\n",
            "[[12  5]\n",
            " [48 14]] \n",
            "\n",
            "[[52 39]\n",
            " [34 20]]\n"
          ]
        }
      ],
      "source": [
        "array1 = np.array([[4, 5], [6, 2]])\n",
        "array2 = np.array([[3, 1], [8, 7]])\n",
        "\n",
        "elementwise_addition = array1 + array2\n",
        "elementwise_sub = array1 - array2\n",
        "scalar_mult = array1 * 2\n",
        "elementwise_mult = array1 * array2\n",
        "matrix_mult = np.dot(array1, array2)\n",
        "\n",
        "print(elementwise_addition, \"\\n\")\n",
        "print(elementwise_sub, \"\\n\")\n",
        "print(scalar_mult, \"\\n\")\n",
        "print(elementwise_mult, \"\\n\")\n",
        "print(matrix_mult)"
      ]
    },
    {
      "cell_type": "markdown",
      "metadata": {
        "id": "7aGdszTGuMCC"
      },
      "source": [
        "9. Створіть двовимірний масив (матрицю) та розрахуйте: 1) мінімальне число, 2) максимальне число, 3) суму чисел, 4) мінімальні числа для кожного рядка, 5) максимальні числа для кожного стовпчика."
      ]
    },
    {
      "cell_type": "code",
      "execution_count": 20,
      "metadata": {
        "id": "RL_39YdauMKS"
      },
      "outputs": [
        {
          "name": "stdout",
          "output_type": "stream",
          "text": [
            "1 9 43 [1 3 4] [4 8 9]\n"
          ]
        }
      ],
      "source": [
        "matrix = np.array([\n",
        "    [1, 4, 2],\n",
        "    [3, 5, 7],\n",
        "    [4, 8, 9]\n",
        "])\n",
        "\n",
        "min_value = np.min(matrix)\n",
        "max_value = np.max(matrix)\n",
        "sum_values = np.sum(matrix)\n",
        "min_per_row = np.min(matrix, axis=1)\n",
        "max_per_column = np.max(matrix, axis=0)\n",
        "\n",
        "print(min_value, max_value, sum_values, min_per_row, max_per_column)\n"
      ]
    },
    {
      "cell_type": "markdown",
      "metadata": {
        "id": "c_hNdOpjHRFo"
      },
      "source": [
        "10. Створіть матрицю , де деякі елементи повторюються. Знайдіть унікальні значення елементів цієї матриці та їхні частоти."
      ]
    },
    {
      "cell_type": "code",
      "execution_count": 21,
      "metadata": {},
      "outputs": [
        {
          "name": "stdout",
          "output_type": "stream",
          "text": [
            "[2 3 5 8] \n",
            "\n",
            "[1 3 2 3]\n"
          ]
        }
      ],
      "source": [
        "matrix = np.array([\n",
        "    [5, 3, 8],\n",
        "    [3, 8, 8],\n",
        "    [5, 3, 2]\n",
        "])\n",
        "\n",
        "unique_values, frequencies = np.unique(matrix, return_counts=True)\n",
        "\n",
        "print(unique_values, \"\\n\")\n",
        "print(frequencies)"
      ]
    },
    {
      "cell_type": "markdown",
      "metadata": {
        "id": "Usj7tyjnprEV"
      },
      "source": [
        "# II. Importing. Creating DF"
      ]
    },
    {
      "cell_type": "markdown",
      "metadata": {
        "id": "ePGNrYa6pxRY"
      },
      "source": [
        "0. Імпортувати бібліотеку pandas"
      ]
    },
    {
      "cell_type": "code",
      "execution_count": 2,
      "metadata": {
        "id": "KIPDNBqQpvkI"
      },
      "outputs": [],
      "source": [
        "import pandas as pd"
      ]
    },
    {
      "cell_type": "markdown",
      "metadata": {
        "id": "8g9-hgi5qWJv"
      },
      "source": [
        "11. Створити тестовий датафрейм зі списку, що містить записи пацієнтів про їхні прізвища, імена, дату народження, масу тіла та наявність медичного страхування. Одне зі значень зробить пустим. Ознайомтесь з типом кожної колонки."
      ]
    },
    {
      "cell_type": "code",
      "execution_count": 23,
      "metadata": {
        "id": "OvA4GvJ5qYb1"
      },
      "outputs": [
        {
          "name": "stdout",
          "output_type": "stream",
          "text": [
            "Test DataFrame:\n",
            "   Last Name First Name Date of Birth  Weight (kg)  Health Insurance\n",
            "0   Ivanenko       Ivan    1990-01-15         70.0              True\n",
            "1   Petrenko      Petro    1985-07-20         82.0             False\n",
            "2  Sydorenko       Olha    1992-03-12         65.0              True\n",
            "3  Kovalenko     Marina    1988-09-30          NaN              True\n",
            "\n",
            "Data types for each column:\n",
            "Last Name            object\n",
            "First Name           object\n",
            "Date of Birth        object\n",
            "Weight (kg)         float64\n",
            "Health Insurance       bool\n",
            "dtype: object\n"
          ]
        }
      ],
      "source": [
        "data = {\n",
        "    \"Last Name\": [\"Ivanenko\", \"Petrenko\", \"Sydorenko\", \"Kovalenko\"],\n",
        "    \"First Name\": [\"Ivan\", \"Petro\", \"Olha\", \"Marina\"],\n",
        "    \"Date of Birth\": [\"1990-01-15\", \"1985-07-20\", \"1992-03-12\", \"1988-09-30\"],\n",
        "    \"Weight (kg)\": [70, 82, 65, None],\n",
        "    \"Health Insurance\": [True, False, True, True],\n",
        "}\n",
        "\n",
        "df = pd.DataFrame(data)\n",
        "\n",
        "print(\"Test DataFrame:\")\n",
        "print(df)\n",
        "\n",
        "print(\"\\nData types for each column:\")\n",
        "print(df.dtypes)\n"
      ]
    },
    {
      "cell_type": "markdown",
      "metadata": {
        "id": "b1SvVHjjqcv-"
      },
      "source": [
        "# III. Reading from file"
      ]
    },
    {
      "cell_type": "markdown",
      "metadata": {
        "id": "7HhZWLs_qhgq"
      },
      "source": [
        "12. Завантажити файл missile_attacks_daily.csv з [Kaggle](https://www.kaggle.com/datasets/piterfm/massive-missile-attacks-on-ukraine?select=missile_attacks_daily.csv). Ознайомитись з описом датасету. Додати файл до папки поточної сесії colab notebook на панелі ліворуч або на гугл диск (локально до проєкту, якщо працюєте у пайчармі). Зчитати датафрейм з файлу та вивести датафрейм на екран. Зверніть увагу на те, щоб всі колонки відповідали наведеним у описі типам даних."
      ]
    },
    {
      "cell_type": "code",
      "execution_count": 3,
      "metadata": {
        "id": "oQcB3kIqqg0h"
      },
      "outputs": [
        {
          "name": "stdout",
          "output_type": "stream",
          "text": [
            "Missile Attacks DataFrame:\n",
            "         time_start          time_end             model  \\\n",
            "0  2025-01-18 20:00  2025-01-19 09:00    Shahed-136/131   \n",
            "1  2025-01-17 19:00  2025-01-18 08:00    Shahed-136/131   \n",
            "2  2025-01-16 19:00  2025-01-17 09:00    Shahed-136/131   \n",
            "3  2025-01-16 19:00  2025-01-17 09:00  Iskander-M/KN-23   \n",
            "4  2025-01-16 19:00  2025-01-17 09:00        Iskander-M   \n",
            "\n",
            "                                        launch_place       target carrier  \\\n",
            "0      Bryansk oblast and Oryol oblast and Millerovo      Ukraine     NaN   \n",
            "1  Primorsko-Akhtarsk and Bryansk oblast and Mill...      Ukraine     NaN   \n",
            "2  Primorsko-Akhtarsk and Kursk oblast and Bryans...      Ukraine     NaN   \n",
            "3                 Bryansk oblast and Voronezh oblast  Kyiv oblast     NaN   \n",
            "4                                      Rostov oblast      Ukraine     NaN   \n",
            "\n",
            "   launched  destroyed  not_reach_goal  cross_border_belarus  back_russia  \\\n",
            "0      61.0         43            15.0                   NaN          NaN   \n",
            "1      39.0         24            14.0                   NaN          NaN   \n",
            "2      50.0         33             9.0                   NaN          NaN   \n",
            "3       4.0          2             NaN                   NaN          NaN   \n",
            "4       2.0          0             NaN                   NaN          NaN   \n",
            "\n",
            "   still_attacking                                  destroyed_details  \\\n",
            "0              1.0  {'Mykolaiv oblast': NaN,    'Kyiv oblast': NaN...   \n",
            "1              NaN  {'Kherson oblast': NaN, 'Khmelnytskyi oblast':...   \n",
            "2              NaN  {'Odesa oblast and Mykolaiv oblast': 7, 'Khmel...   \n",
            "3              NaN                                                NaN   \n",
            "4              NaN                                                NaN   \n",
            "\n",
            "  launched_details launch_place_details  \\\n",
            "0              NaN                  NaN   \n",
            "1              NaN                  NaN   \n",
            "2              NaN                  NaN   \n",
            "3              NaN                  NaN   \n",
            "4              NaN                  NaN   \n",
            "\n",
            "                                              source  \n",
            "0  kpszsu/posts/pfbid0meYNAsX4voALE4SXunVpzKTwzrJ...  \n",
            "1  kpszsu/posts/pfbid0Rpzfu7u9ERu4o49Gm12eqSogKvZ...  \n",
            "2  kpszsu/posts/pfbid0Gvye9Wn2gj8RPiiGaTQFGRas9Yg...  \n",
            "3  kpszsu/posts/pfbid0Rpzfu7u9ERu4o49Gm12eqSogKvZ...  \n",
            "4  kpszsu/posts/pfbid0Gvye9Wn2gj8RPiiGaTQFGRas9Yg...  \n",
            "\n",
            "Data types for each column:\n",
            "time_start               object\n",
            "time_end                 object\n",
            "model                    object\n",
            "launch_place             object\n",
            "target                   object\n",
            "carrier                  object\n",
            "launched                float64\n",
            "destroyed                 int64\n",
            "not_reach_goal          float64\n",
            "cross_border_belarus    float64\n",
            "back_russia             float64\n",
            "still_attacking         float64\n",
            "destroyed_details        object\n",
            "launched_details         object\n",
            "launch_place_details     object\n",
            "source                   object\n",
            "dtype: object\n"
          ]
        }
      ],
      "source": [
        "file_path = \"missile_attacks_daily.csv\"\n",
        "df = pd.read_csv(file_path)\n",
        "print(\"Missile Attacks DataFrame:\")\n",
        "print(df.head())\n",
        "print(\"\\nData types for each column:\")\n",
        "print(df.dtypes)\n"
      ]
    },
    {
      "cell_type": "markdown",
      "metadata": {
        "id": "89zu0WNErzd2"
      },
      "source": [
        "# IV. Data understanding"
      ]
    },
    {
      "cell_type": "markdown",
      "metadata": {
        "id": "LJqrTfHr2d1G"
      },
      "source": [
        "13. Виведіть на екран перші 10 рядків зчитаного датафрейму."
      ]
    },
    {
      "cell_type": "code",
      "execution_count": 4,
      "metadata": {
        "id": "GdVE9WYwr1sD"
      },
      "outputs": [
        {
          "name": "stdout",
          "output_type": "stream",
          "text": [
            "First 10 rows of the DataFrame:\n",
            "         time_start          time_end             model  \\\n",
            "0  2025-01-18 20:00  2025-01-19 09:00    Shahed-136/131   \n",
            "1  2025-01-17 19:00  2025-01-18 08:00    Shahed-136/131   \n",
            "2  2025-01-16 19:00  2025-01-17 09:00    Shahed-136/131   \n",
            "3  2025-01-16 19:00  2025-01-17 09:00  Iskander-M/KN-23   \n",
            "4  2025-01-16 19:00  2025-01-17 09:00        Iskander-M   \n",
            "5  2025-01-15 20:00  2025-01-16 09:00    Shahed-136/131   \n",
            "6  2025-01-15 06:00  2025-01-15 08:00         X-59/X-69   \n",
            "7  2025-01-15 06:00  2025-01-15 08:00         X-22/X-32   \n",
            "8  2025-01-15 06:00  2025-01-15 08:00       X-101/X-555   \n",
            "9  2025-01-15 06:00  2025-01-15 08:00            Kalibr   \n",
            "\n",
            "                                        launch_place       target  carrier  \\\n",
            "0      Bryansk oblast and Oryol oblast and Millerovo      Ukraine      NaN   \n",
            "1  Primorsko-Akhtarsk and Bryansk oblast and Mill...      Ukraine      NaN   \n",
            "2  Primorsko-Akhtarsk and Kursk oblast and Bryans...      Ukraine      NaN   \n",
            "3                 Bryansk oblast and Voronezh oblast  Kyiv oblast      NaN   \n",
            "4                                      Rostov oblast      Ukraine      NaN   \n",
            "5  Primorsko-Akhtarsk and Bryansk oblast and Oryo...      Ukraine      NaN   \n",
            "6                                    Belgorod oblast      Ukraine      NaN   \n",
            "7                                        Tula oblast      Ukraine  Tu-22M3   \n",
            "8                                   Volgograd oblast      Ukraine  Tu-95MS   \n",
            "9                                          Black Sea      Ukraine     Navi   \n",
            "\n",
            "   launched  destroyed  not_reach_goal  cross_border_belarus  back_russia  \\\n",
            "0      61.0         43            15.0                   NaN          NaN   \n",
            "1      39.0         24            14.0                   NaN          NaN   \n",
            "2      50.0         33             9.0                   NaN          NaN   \n",
            "3       4.0          2             NaN                   NaN          NaN   \n",
            "4       2.0          0             NaN                   NaN          NaN   \n",
            "5      55.0         34            18.0                   NaN          NaN   \n",
            "6       4.0          4             NaN                   NaN          NaN   \n",
            "7       7.0          0             NaN                   NaN          NaN   \n",
            "8      27.0         23             NaN                   NaN          NaN   \n",
            "9       4.0          3             NaN                   NaN          NaN   \n",
            "\n",
            "   still_attacking                                  destroyed_details  \\\n",
            "0              1.0  {'Mykolaiv oblast': NaN,    'Kyiv oblast': NaN...   \n",
            "1              NaN  {'Kherson oblast': NaN, 'Khmelnytskyi oblast':...   \n",
            "2              NaN  {'Odesa oblast and Mykolaiv oblast': 7, 'Khmel...   \n",
            "3              NaN                                                NaN   \n",
            "4              NaN                                                NaN   \n",
            "5              NaN  {'Mykolaiv oblast': 5, 'Kyiv oblast': NaN, 'Su...   \n",
            "6              NaN                                                NaN   \n",
            "7              NaN                                                NaN   \n",
            "8              NaN                                       {'west': 20}   \n",
            "9              NaN                                       {'south': 1}   \n",
            "\n",
            "  launched_details launch_place_details  \\\n",
            "0              NaN                  NaN   \n",
            "1              NaN                  NaN   \n",
            "2              NaN                  NaN   \n",
            "3              NaN                  NaN   \n",
            "4              NaN                  NaN   \n",
            "5              NaN                  NaN   \n",
            "6              NaN                  NaN   \n",
            "7              NaN                  NaN   \n",
            "8              NaN                  NaN   \n",
            "9              NaN                  NaN   \n",
            "\n",
            "                                              source  \n",
            "0  kpszsu/posts/pfbid0meYNAsX4voALE4SXunVpzKTwzrJ...  \n",
            "1  kpszsu/posts/pfbid0Rpzfu7u9ERu4o49Gm12eqSogKvZ...  \n",
            "2  kpszsu/posts/pfbid0Gvye9Wn2gj8RPiiGaTQFGRas9Yg...  \n",
            "3  kpszsu/posts/pfbid0Rpzfu7u9ERu4o49Gm12eqSogKvZ...  \n",
            "4  kpszsu/posts/pfbid0Gvye9Wn2gj8RPiiGaTQFGRas9Yg...  \n",
            "5  kpszsu/posts/pfbid0tPwzQHvvr63PbehDshED2WNV2vm...  \n",
            "6  kpszsu/posts/pfbid0kLxxfDQRTeUt5wQT5eahJVkW1fb...  \n",
            "7  kpszsu/posts/pfbid0kLxxfDQRTeUt5wQT5eahJVkW1fb...  \n",
            "8  kpszsu/posts/pfbid0kLxxfDQRTeUt5wQT5eahJVkW1fb...  \n",
            "9  kpszsu/posts/pfbid0kLxxfDQRTeUt5wQT5eahJVkW1fb...  \n"
          ]
        }
      ],
      "source": [
        "print(\"First 10 rows of the DataFrame:\")\n",
        "print(df.head(10))"
      ]
    },
    {
      "cell_type": "markdown",
      "metadata": {
        "id": "1PtkLHWj2lq0"
      },
      "source": [
        "14. Отримайте інформацію про форму датафрейму."
      ]
    },
    {
      "cell_type": "code",
      "execution_count": 5,
      "metadata": {
        "id": "CBPTYTjV2mtG"
      },
      "outputs": [
        {
          "name": "stdout",
          "output_type": "stream",
          "text": [
            "Shape of the DataFrame:\n",
            "(2044, 16)\n"
          ]
        }
      ],
      "source": [
        "print(\"Shape of the DataFrame:\")\n",
        "print(df.shape)"
      ]
    },
    {
      "cell_type": "markdown",
      "metadata": {
        "id": "GDVcFC6F2yVz"
      },
      "source": [
        "15. Отримайте дані про кожну колонку з її назвою, типом даних та кількістю непустих значень."
      ]
    },
    {
      "cell_type": "code",
      "execution_count": 6,
      "metadata": {
        "id": "GTRgfKJ920bn"
      },
      "outputs": [
        {
          "name": "stdout",
          "output_type": "stream",
          "text": [
            "Information about each column:\n",
            "<class 'pandas.core.frame.DataFrame'>\n",
            "RangeIndex: 2044 entries, 0 to 2043\n",
            "Data columns (total 16 columns):\n",
            " #   Column                Non-Null Count  Dtype  \n",
            "---  ------                --------------  -----  \n",
            " 0   time_start            2044 non-null   object \n",
            " 1   time_end              2044 non-null   object \n",
            " 2   model                 2044 non-null   object \n",
            " 3   launch_place          1023 non-null   object \n",
            " 4   target                2016 non-null   object \n",
            " 5   carrier               225 non-null    object \n",
            " 6   launched              2041 non-null   float64\n",
            " 7   destroyed             2044 non-null   int64  \n",
            " 8   not_reach_goal        157 non-null    float64\n",
            " 9   cross_border_belarus  32 non-null     float64\n",
            " 10  back_russia           34 non-null     float64\n",
            " 11  still_attacking       28 non-null     float64\n",
            " 12  destroyed_details     294 non-null    object \n",
            " 13  launched_details      4 non-null      object \n",
            " 14  launch_place_details  4 non-null      object \n",
            " 15  source                2044 non-null   object \n",
            "dtypes: float64(5), int64(1), object(10)\n",
            "memory usage: 255.6+ KB\n"
          ]
        }
      ],
      "source": [
        "print(\"Information about each column:\")\n",
        "df.info()"
      ]
    },
    {
      "cell_type": "markdown",
      "metadata": {
        "id": "DEy-hgsw2452"
      },
      "source": [
        "16. Отримайте статистику для колонок числового типу."
      ]
    },
    {
      "cell_type": "code",
      "execution_count": 7,
      "metadata": {
        "id": "94mI2N9t267Q"
      },
      "outputs": [
        {
          "name": "stdout",
          "output_type": "stream",
          "text": [
            "Statistics for numeric columns:\n",
            "          launched    destroyed  not_reach_goal  cross_border_belarus  \\\n",
            "count  2041.000000  2044.000000      157.000000             32.000000   \n",
            "mean     10.609995     7.491683       20.828025              2.312500   \n",
            "std      21.041038    14.190972       19.877245              2.054696   \n",
            "min       1.000000     0.000000        1.000000              1.000000   \n",
            "25%       1.000000     1.000000        4.000000              1.000000   \n",
            "50%       2.000000     1.000000       16.000000              2.000000   \n",
            "75%       9.000000     7.000000       30.000000              2.000000   \n",
            "max     193.000000    99.000000      105.000000             10.000000   \n",
            "\n",
            "       back_russia  still_attacking  \n",
            "count    34.000000        28.000000  \n",
            "mean      2.000000         2.821429  \n",
            "std       1.154701         2.931989  \n",
            "min       1.000000         1.000000  \n",
            "25%       1.000000         1.000000  \n",
            "50%       2.000000         1.000000  \n",
            "75%       3.000000         4.000000  \n",
            "max       5.000000        10.000000  \n"
          ]
        }
      ],
      "source": [
        "print(\"Statistics for numeric columns:\")\n",
        "print(df.describe())"
      ]
    },
    {
      "cell_type": "markdown",
      "metadata": {
        "id": "n0MGJU2C2-iD"
      },
      "source": [
        "17. Отримати кількість унікальних значень у кожній колонці. Вивести на екран значення та кількість цих значень у колонці, яка має найменше унікальних значень."
      ]
    },
    {
      "cell_type": "code",
      "execution_count": 8,
      "metadata": {
        "id": "lQh_jdGe3BK5"
      },
      "outputs": [
        {
          "name": "stdout",
          "output_type": "stream",
          "text": [
            "Column with the least unique values: launched_details\n",
            "Unique values and their counts in 'launched_details':\n",
            "launched_details\n",
            "{'X-101/X-555': 50, 'Kalibr': 12}                     1\n",
            "{'X-101/X-555': 55, 'Kalibr': 24, 'Iskander-K': 7}    1\n",
            "{'X-101/X-555': 57, 'Kalibr': 28}                     1\n",
            "{'X-101/X-555': 77, 'Kalibr': 28, 'X-59/X-69': 10}    1\n",
            "Name: count, dtype: int64\n"
          ]
        }
      ],
      "source": [
        "unique_counts = df.nunique()\n",
        "\n",
        "# Finding the column with the least unique values\n",
        "min_unique_column = unique_counts.idxmin()\n",
        "\n",
        "print(f\"Column with the least unique values: {min_unique_column}\")\n",
        "print(f\"Unique values and their counts in '{min_unique_column}':\")\n",
        "print(df[min_unique_column].value_counts())"
      ]
    },
    {
      "cell_type": "markdown",
      "metadata": {
        "id": "iVRkzUti3uC_"
      },
      "source": [
        "18. На основі отриманої інформації про датасет вище, опишіть по пунктах, що б ви виправили або на що б звернули увагу на кроці очищення даних і чому?"
      ]
    },
    {
      "cell_type": "markdown",
      "metadata": {
        "id": "9_Q-Fcuo30zY"
      },
      "source": [
        "**місце для текстової відповіді**\n",
        "\n",
        "1.   Конвертація типів даних: пеереконатися, що типи даних колонок відповідають їх значенню. Наприклад, колонка з датами повинна мати тип datetime, а числові дані — типи int або float.\n",
        "2.  Перевірка на пропущені значення: метод .info() дозволяє дізнатися, чи є пропущені значення в колонках. Якщо такі є, варто вирішити, чи слід видаляти ці рядки, чи заповнювати пропущені значення за допомогою певної стратегії (наприклад, середнє або медіана для числових даних). \n",
        "3. Перевірка на некоректні або аномальні значення: виявлення аномальних значень, таких як нулі або значення, що не відповідають контексту (наприклад, дуже великі або дуже малі значення, якщо вони не мають сенсу в контексті).\n"
      ]
    },
    {
      "cell_type": "markdown",
      "metadata": {
        "id": "Ue9ECz5-3_pq"
      },
      "source": [
        "# V. Data Cleaning"
      ]
    },
    {
      "cell_type": "markdown",
      "metadata": {
        "id": "ZtHUiSrV4CL-"
      },
      "source": [
        "19. Перетворити колонку launched у цілочислену (Int64). Перевірити, чи все пройшло, як очікувалось."
      ]
    },
    {
      "cell_type": "code",
      "execution_count": 9,
      "metadata": {
        "id": "AWyo_-Un3xqz"
      },
      "outputs": [
        {
          "name": "stdout",
          "output_type": "stream",
          "text": [
            "Data type of 'launched' column: Int64\n"
          ]
        }
      ],
      "source": [
        "df['launched'] = df['launched'].astype('Int64')\n",
        "print(f\"Data type of 'launched' column: {df['launched'].dtype}\")"
      ]
    },
    {
      "cell_type": "markdown",
      "metadata": {
        "id": "KsHhM4EM4O3d"
      },
      "source": [
        "20. Видалити колонки, де кількість непустих значень становить менше 30% від загальної кількості записів."
      ]
    },
    {
      "cell_type": "code",
      "execution_count": 10,
      "metadata": {
        "id": "Z1ZCclle4Vyk"
      },
      "outputs": [
        {
          "name": "stdout",
          "output_type": "stream",
          "text": [
            "Columns after removing those with less than 30% non-null values:\n",
            "            time_start          time_end               model  \\\n",
            "0     2025-01-18 20:00  2025-01-19 09:00      Shahed-136/131   \n",
            "1     2025-01-17 19:00  2025-01-18 08:00      Shahed-136/131   \n",
            "2     2025-01-16 19:00  2025-01-17 09:00      Shahed-136/131   \n",
            "3     2025-01-16 19:00  2025-01-17 09:00    Iskander-M/KN-23   \n",
            "4     2025-01-16 19:00  2025-01-17 09:00          Iskander-M   \n",
            "...                ...               ...                 ...   \n",
            "2039  2022-10-01 12:00  2022-10-01 12:00            Orlan-10   \n",
            "2040        2022-09-30        2022-09-30            Orlan-10   \n",
            "2041  2022-09-29 23:00  2022-09-29 23:59      Shahed-136/131   \n",
            "2042        2022-09-28        2022-09-28                X-59   \n",
            "2043        2022-09-28        2022-09-28  Reconnaissance UAV   \n",
            "\n",
            "                                           launch_place  \\\n",
            "0         Bryansk oblast and Oryol oblast and Millerovo   \n",
            "1     Primorsko-Akhtarsk and Bryansk oblast and Mill...   \n",
            "2     Primorsko-Akhtarsk and Kursk oblast and Bryans...   \n",
            "3                    Bryansk oblast and Voronezh oblast   \n",
            "4                                         Rostov oblast   \n",
            "...                                                 ...   \n",
            "2039                                                NaN   \n",
            "2040                                                NaN   \n",
            "2041                                                NaN   \n",
            "2042                                                NaN   \n",
            "2043                                                NaN   \n",
            "\n",
            "                                             target  launched  destroyed  \\\n",
            "0                                           Ukraine        61         43   \n",
            "1                                           Ukraine        39         24   \n",
            "2                                           Ukraine        50         33   \n",
            "3                                       Kyiv oblast         4          2   \n",
            "4                                           Ukraine         2          0   \n",
            "...                                             ...       ...        ...   \n",
            "2039                                        Ukraine         1          1   \n",
            "2040                                        Ukraine         3          3   \n",
            "2041               Odesa oblast and Mykolaiv oblast         7          5   \n",
            "2042  Dnipropetrovsk oblast and Zaporizhzhia oblast         5          4   \n",
            "2043                                        Ukraine         3          3   \n",
            "\n",
            "                                                 source  \n",
            "0     kpszsu/posts/pfbid0meYNAsX4voALE4SXunVpzKTwzrJ...  \n",
            "1     kpszsu/posts/pfbid0Rpzfu7u9ERu4o49Gm12eqSogKvZ...  \n",
            "2     kpszsu/posts/pfbid0Gvye9Wn2gj8RPiiGaTQFGRas9Yg...  \n",
            "3     kpszsu/posts/pfbid0Rpzfu7u9ERu4o49Gm12eqSogKvZ...  \n",
            "4     kpszsu/posts/pfbid0Gvye9Wn2gj8RPiiGaTQFGRas9Yg...  \n",
            "...                                                 ...  \n",
            "2039                           watch/?v=375517448001233  \n",
            "2040  kpszsu/posts/pfbid0nELeXY4BpHrezv54Lk3gWPZJmcC...  \n",
            "2041  kpszsu/posts/pfbid021aK2TqryAuB8gGrDYMTv3R8Xiu...  \n",
            "2042  kpszsu/posts/pfbid02sjn5m7kosAfsm5bSUzpPwbLuH3...  \n",
            "2043  kpszsu/posts/pfbid0grmBx6A5LbQ7PVTkSx7jTDgg4iU...  \n",
            "\n",
            "[2044 rows x 8 columns]\n"
          ]
        }
      ],
      "source": [
        "threshold = 0.3 * len(df)\n",
        "df_cleaned = df.dropna(axis=1, thresh=threshold)\n",
        "print(\"Columns after removing those with less than 30% non-null values:\")\n",
        "print(df_cleaned)"
      ]
    },
    {
      "cell_type": "markdown",
      "metadata": {
        "id": "p8cD0M0U4cNT"
      },
      "source": [
        "21. Очистити датафрейм від дублікатів (дублюючихся рядків) та записів, де атака продовжувалась відʼємну або нульову кількість часу (що фізично неможливо). Не забудьте оновити індекс. Скільки рядків було видалено? Як ви це перевірили у коді?"
      ]
    },
    {
      "cell_type": "code",
      "execution_count": 12,
      "metadata": {},
      "outputs": [
        {
          "name": "stdout",
          "output_type": "stream",
          "text": [
            "Index(['time_start', 'time_end', 'model', 'launch_place', 'target', 'carrier',\n",
            "       'launched', 'destroyed', 'not_reach_goal', 'cross_border_belarus',\n",
            "       'back_russia', 'still_attacking', 'destroyed_details',\n",
            "       'launched_details', 'launch_place_details', 'source'],\n",
            "      dtype='object')\n"
          ]
        }
      ],
      "source": [
        "print(df.columns)"
      ]
    },
    {
      "cell_type": "code",
      "execution_count": 16,
      "metadata": {
        "id": "in3Fvn0I4l-I"
      },
      "outputs": [
        {
          "name": "stdout",
          "output_type": "stream",
          "text": [
            "time_start    1445\n",
            "time_end       677\n",
            "dtype: int64\n",
            "Rows removed: 1610\n",
            "Cleaned DataFrame shape: (434, 17)\n"
          ]
        },
        {
          "name": "stderr",
          "output_type": "stream",
          "text": [
            "C:\\Users\\psycho\\AppData\\Local\\Temp\\ipykernel_11728\\3559650792.py:8: UserWarning: Parsing dates in %Y-%m-%d %H:%M format when dayfirst=True was specified. Pass `dayfirst=False` or specify a format to silence this warning.\n",
            "  df['time_start'] = pd.to_datetime(df['time_start'], errors='coerce', dayfirst=True)\n",
            "C:\\Users\\psycho\\AppData\\Local\\Temp\\ipykernel_11728\\3559650792.py:9: UserWarning: Parsing dates in %Y-%m-%d %H:%M format when dayfirst=True was specified. Pass `dayfirst=False` or specify a format to silence this warning.\n",
            "  df['time_end'] = pd.to_datetime(df['time_end'], errors='coerce', dayfirst=True)\n"
          ]
        }
      ],
      "source": [
        "df['time_start'] = pd.to_datetime(df['time_start'], errors='coerce', dayfirst=True) # If dates are in different formats, errors='coerce' will set invalid dates to NaT\n",
        "df['time_end'] = pd.to_datetime(df['time_end'], errors='coerce', dayfirst=True)\n",
        "print(df[['time_start', 'time_end']].isna().sum())\n",
        "df['attack_duration'] = (df['time_end'] - df['time_start']).dt.total_seconds()\n",
        "df_cleaned = df.drop_duplicates()\n",
        "df_cleaned = df_cleaned[df_cleaned['attack_duration'] > 0]\n",
        "df_cleaned.reset_index(drop=True, inplace=True)\n",
        "rows_removed = len(df) - len(df_cleaned)\n",
        "print(f\"Rows removed: {rows_removed}\")\n",
        "print(f\"Cleaned DataFrame shape: {df_cleaned.shape}\")"
      ]
    },
    {
      "cell_type": "markdown",
      "metadata": {
        "id": "8zqL82Ie4nqY"
      },
      "source": [
        "**місце для текстової відповіді**"
      ]
    },
    {
      "cell_type": "markdown",
      "metadata": {
        "id": "GoHlOjXj4sIw"
      },
      "source": [
        "Щоб визначити, скільки рядків було видалено, можна порівняти кількість рядків у початковому датафреймі з кількістю рядків після очищення"
      ]
    },
    {
      "cell_type": "markdown",
      "metadata": {
        "id": "6oZ7C_ry4uvb"
      },
      "source": [
        "22. Виведіть на екран всі рядки, де є хоч одне пропущене значення."
      ]
    },
    {
      "cell_type": "code",
      "execution_count": 17,
      "metadata": {
        "id": "BPmCTDtg4wVS"
      },
      "outputs": [
        {
          "name": "stdout",
          "output_type": "stream",
          "text": [
            "              time_start            time_end               model  \\\n",
            "0    2025-01-18 20:00:00 2025-01-19 09:00:00      Shahed-136/131   \n",
            "1    2025-01-17 19:00:00 2025-01-18 08:00:00      Shahed-136/131   \n",
            "2    2025-01-16 19:00:00 2025-01-17 09:00:00      Shahed-136/131   \n",
            "3    2025-01-16 19:00:00 2025-01-17 09:00:00    Iskander-M/KN-23   \n",
            "4    2025-01-16 19:00:00 2025-01-17 09:00:00          Iskander-M   \n",
            "...                  ...                 ...                 ...   \n",
            "2039 2022-10-01 12:00:00 2022-10-01 12:00:00            Orlan-10   \n",
            "2040                 NaT                 NaT            Orlan-10   \n",
            "2041 2022-09-29 23:00:00 2022-09-29 23:59:00      Shahed-136/131   \n",
            "2042                 NaT                 NaT                X-59   \n",
            "2043                 NaT                 NaT  Reconnaissance UAV   \n",
            "\n",
            "                                           launch_place  \\\n",
            "0         Bryansk oblast and Oryol oblast and Millerovo   \n",
            "1     Primorsko-Akhtarsk and Bryansk oblast and Mill...   \n",
            "2     Primorsko-Akhtarsk and Kursk oblast and Bryans...   \n",
            "3                    Bryansk oblast and Voronezh oblast   \n",
            "4                                         Rostov oblast   \n",
            "...                                                 ...   \n",
            "2039                                                NaN   \n",
            "2040                                                NaN   \n",
            "2041                                                NaN   \n",
            "2042                                                NaN   \n",
            "2043                                                NaN   \n",
            "\n",
            "                                             target carrier  launched  \\\n",
            "0                                           Ukraine     NaN      61.0   \n",
            "1                                           Ukraine     NaN      39.0   \n",
            "2                                           Ukraine     NaN      50.0   \n",
            "3                                       Kyiv oblast     NaN       4.0   \n",
            "4                                           Ukraine     NaN       2.0   \n",
            "...                                             ...     ...       ...   \n",
            "2039                                        Ukraine     NaN       1.0   \n",
            "2040                                        Ukraine     NaN       3.0   \n",
            "2041               Odesa oblast and Mykolaiv oblast     NaN       7.0   \n",
            "2042  Dnipropetrovsk oblast and Zaporizhzhia oblast   Su-35       5.0   \n",
            "2043                                        Ukraine     NaN       3.0   \n",
            "\n",
            "      destroyed  not_reach_goal  cross_border_belarus  back_russia  \\\n",
            "0            43            15.0                   NaN          NaN   \n",
            "1            24            14.0                   NaN          NaN   \n",
            "2            33             9.0                   NaN          NaN   \n",
            "3             2             NaN                   NaN          NaN   \n",
            "4             0             NaN                   NaN          NaN   \n",
            "...         ...             ...                   ...          ...   \n",
            "2039          1             NaN                   NaN          NaN   \n",
            "2040          3             NaN                   NaN          NaN   \n",
            "2041          5             NaN                   NaN          NaN   \n",
            "2042          4             NaN                   NaN          NaN   \n",
            "2043          3             NaN                   NaN          NaN   \n",
            "\n",
            "      still_attacking                                  destroyed_details  \\\n",
            "0                 1.0  {'Mykolaiv oblast': NaN,    'Kyiv oblast': NaN...   \n",
            "1                 NaN  {'Kherson oblast': NaN, 'Khmelnytskyi oblast':...   \n",
            "2                 NaN  {'Odesa oblast and Mykolaiv oblast': 7, 'Khmel...   \n",
            "3                 NaN                                                NaN   \n",
            "4                 NaN                                                NaN   \n",
            "...               ...                                                ...   \n",
            "2039              NaN                                                NaN   \n",
            "2040              NaN                                                NaN   \n",
            "2041              NaN                                                NaN   \n",
            "2042              NaN                                                NaN   \n",
            "2043              NaN                                                NaN   \n",
            "\n",
            "     launched_details launch_place_details  \\\n",
            "0                 NaN                  NaN   \n",
            "1                 NaN                  NaN   \n",
            "2                 NaN                  NaN   \n",
            "3                 NaN                  NaN   \n",
            "4                 NaN                  NaN   \n",
            "...               ...                  ...   \n",
            "2039              NaN                  NaN   \n",
            "2040              NaN                  NaN   \n",
            "2041              NaN                  NaN   \n",
            "2042              NaN                  NaN   \n",
            "2043              NaN                  NaN   \n",
            "\n",
            "                                                 source  attack_duration  \n",
            "0     kpszsu/posts/pfbid0meYNAsX4voALE4SXunVpzKTwzrJ...          46800.0  \n",
            "1     kpszsu/posts/pfbid0Rpzfu7u9ERu4o49Gm12eqSogKvZ...          46800.0  \n",
            "2     kpszsu/posts/pfbid0Gvye9Wn2gj8RPiiGaTQFGRas9Yg...          50400.0  \n",
            "3     kpszsu/posts/pfbid0Rpzfu7u9ERu4o49Gm12eqSogKvZ...          50400.0  \n",
            "4     kpszsu/posts/pfbid0Gvye9Wn2gj8RPiiGaTQFGRas9Yg...          50400.0  \n",
            "...                                                 ...              ...  \n",
            "2039                           watch/?v=375517448001233              0.0  \n",
            "2040  kpszsu/posts/pfbid0nELeXY4BpHrezv54Lk3gWPZJmcC...              NaN  \n",
            "2041  kpszsu/posts/pfbid021aK2TqryAuB8gGrDYMTv3R8Xiu...           3540.0  \n",
            "2042  kpszsu/posts/pfbid02sjn5m7kosAfsm5bSUzpPwbLuH3...              NaN  \n",
            "2043  kpszsu/posts/pfbid0grmBx6A5LbQ7PVTkSx7jTDgg4iU...              NaN  \n",
            "\n",
            "[2044 rows x 17 columns]\n"
          ]
        }
      ],
      "source": [
        "missing_data_rows = df[df.isna().any(axis=1)]\n",
        "print(missing_data_rows)"
      ]
    }
  ],
  "metadata": {
    "colab": {
      "collapsed_sections": [
        "dwSyU2AjXwc-"
      ],
      "provenance": []
    },
    "kernelspec": {
      "display_name": "Python 3",
      "name": "python3"
    },
    "language_info": {
      "codemirror_mode": {
        "name": "ipython",
        "version": 3
      },
      "file_extension": ".py",
      "mimetype": "text/x-python",
      "name": "python",
      "nbconvert_exporter": "python",
      "pygments_lexer": "ipython3",
      "version": "3.13.0"
    }
  },
  "nbformat": 4,
  "nbformat_minor": 0
}
